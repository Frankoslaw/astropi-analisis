{
 "cells": [
  {
   "cell_type": "code",
   "execution_count": 8,
   "metadata": {},
   "outputs": [],
   "source": [
    "from tqdm import tqdm\n",
    "import os, os.path\n",
    "\n",
    "imgs = []\n",
    "path = \"./leniwce_run2/ndvi/\"\n",
    "\n",
    "for f in os.listdir(path):\n",
    "    ext = os.path.splitext(f)[1]\n",
    "    if ext.lower() != \".jpg\":\n",
    "        continue\n",
    "    imgs.append(os.path.join(path,f))\n",
    "\n",
    "imgs.sort()"
   ]
  },
  {
   "cell_type": "code",
   "execution_count": 68,
   "metadata": {},
   "outputs": [],
   "source": [
    "import numpy as np\n",
    "import numpy.ma as ma\n",
    "import cv2\n",
    "from fastiecm import fastiecm\n",
    "import matplotlib.pyplot as plt\n",
    "import pandas as pd"
   ]
  },
  {
   "cell_type": "code",
   "execution_count": 71,
   "metadata": {},
   "outputs": [
    {
     "name": "stderr",
     "output_type": "stream",
     "text": [
      "100%|██████████| 74/74 [00:47<00:00,  1.55it/s]\n"
     ]
    }
   ],
   "source": [
    "import csv\n",
    "\n",
    "header = ['image-n', 'min', 'max', 'Q1', 'Q2', 'Q3', 'mean']\n",
    "\n",
    "with open('cumulative_assesment.csv', 'w') as file:\n",
    "    writer = csv.writer(file)\n",
    "    writer.writerow(header)\n",
    "    \n",
    "    for image_path in tqdm(imgs):\n",
    "        image = cv2.imread(image_path.replace(\"masks\", \"ndvi\"))    \n",
    "        image = np.mean(image, axis=2)\n",
    "        image = np.uint8(image)  \n",
    "\n",
    "        mask = cv2.imread(image_path)\n",
    "        mask = np.sum(mask, axis=2) > 350\n",
    "        mask = np.uint8(mask)  \n",
    "\n",
    "        mx = np.extract(mask.flatten(), image.flatten())\n",
    "\n",
    "        writer.writerow([\n",
    "            image_path.replace(\"masks\", \"ndvi\")[-7:-4],\n",
    "            mx.min() / 255,\n",
    "            mx.max() / 255, \n",
    "            np.percentile(mx, 25) / 255, \n",
    "            np.percentile(mx, 50) / 255, \n",
    "            np.percentile(mx, 75) / 255, \n",
    "            mx.mean() / 255\n",
    "        ])\n"
   ]
  },
  {
   "cell_type": "code",
   "execution_count": null,
   "metadata": {},
   "outputs": [],
   "source": []
  }
 ],
 "metadata": {
  "kernelspec": {
   "display_name": "Python 3",
   "language": "python",
   "name": "python3"
  },
  "language_info": {
   "codemirror_mode": {
    "name": "ipython",
    "version": 3
   },
   "file_extension": ".py",
   "mimetype": "text/x-python",
   "name": "python",
   "nbconvert_exporter": "python",
   "pygments_lexer": "ipython3",
   "version": "3.10.6"
  },
  "orig_nbformat": 4
 },
 "nbformat": 4,
 "nbformat_minor": 2
}
